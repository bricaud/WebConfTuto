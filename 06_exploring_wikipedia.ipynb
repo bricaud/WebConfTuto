{
 "cells": [
  {
   "cell_type": "markdown",
   "id": "737eeeb2",
   "metadata": {},
   "source": [
    "# Exploring Wikipedia using its API\n",
    "\n",
    "No need to introduce Wikipedia, the online encyclopedia is now the default online reference for a lot of subjects.\n",
    "Each page contains one or more links to other pages, it is therefore natural to apply the graph exploration methods we have seen previously. The whole graph of wikipedia pages is quite big, the english version has ca. 7M pages and 500M links, and the graph is highly connected.\n",
    "\n",
    "A great thing about wikipedia is that almost all the data are open. Data is either available as [full dumps](https://dumps.wikimedia.org/) or [using the API](https://www.mediawiki.org/wiki/API:Main_page). Dumps are better for offline processing. There are a number of tools dedicated to processing data dumps from Wikipedia, e.g. [Sparkwiki](https://github.com/epfl-lts2/sparkwiki). In this tutorial we will be using the API to access the [English edition of Wikipedia](https://en.wikipedia.org), although adapting the code for another language is fairly trivial.\n",
    "\n",
    "## Experimenting the API using the sandbox\n",
    "There are a lot of possibilities to use the API, we only use the `query` action to retrieve data about pages. The [documentation](https://www.mediawiki.org/w/api.php?action=help&modules=query) provides a list to properties that can be retrieved for each page.\n",
    "\n",
    "The [API Sandbox](https://en.wikipedia.org/wiki/Special:ApiSandbox) helps testing and building queries quickly. If we need to retrieve\n",
    "the categories of Albert Einstein's wikipedia page it can be tried [here](https://en.wikipedia.org/wiki/Special:ApiSandbox#action=query&format=json&prop=categories&titles=Albert%20Einstein) or use the following sandbox query:\n",
    "```\n",
    "https://en.wikipedia.org/wiki/Special:ApiSandbox#action=query&format=json&prop=categories&titles=Albert%20Einstein\n",
    "```\n",
    "\n",
    "Once we are satisfied with the data we retrieve, it can be performed directly. Let us load the links from Einstein's wikipedia page using python `requests`. We add the `cllimit` parameter to retrieve the first 20 categories."
   ]
  },
  {
   "cell_type": "code",
   "execution_count": null,
   "id": "2f98e48a",
   "metadata": {},
   "outputs": [],
   "source": [
    "import requests"
   ]
  },
  {
   "cell_type": "code",
   "execution_count": null,
   "id": "a81e5851",
   "metadata": {},
   "outputs": [],
   "source": [
    "r = requests.get('https://en.wikipedia.org/w/api.php?action=query&format=json&prop=categories&titles=Albert%20Einstein&cllimit=20')"
   ]
  },
  {
   "cell_type": "code",
   "execution_count": null,
   "id": "3719260f",
   "metadata": {},
   "outputs": [],
   "source": [
    "einstein_cats = r.json()\n",
    "einstein_cats"
   ]
  },
  {
   "cell_type": "markdown",
   "id": "52da8f4c",
   "metadata": {},
   "source": [
    "The result of the query is JSON-formatted and converted to a Python dict directly"
   ]
  },
  {
   "cell_type": "code",
   "execution_count": null,
   "id": "93ca4328",
   "metadata": {},
   "outputs": [],
   "source": [
    "einstein_cats['query']['pages']['736']['title']"
   ]
  },
  {
   "cell_type": "markdown",
   "id": "85e35d09",
   "metadata": {},
   "source": [
    "The query only return the 20 first categories of the page. While the `cllimit`parameter could be increased, there are cases where multiple queries are needed to retrieve all the data of a page. The response provides a `continue` key providing information about how to retrieve the following categories. In this case, appending `clcontinue=736|American_science_writers` to our query will retrieve the next categories."
   ]
  },
  {
   "cell_type": "code",
   "execution_count": null,
   "id": "ec2de39c",
   "metadata": {},
   "outputs": [],
   "source": [
    "rc = requests.get('https://en.wikipedia.org/w/api.php?action=query&format=json&prop=categories&titles=Albert%20Einstein&cllimit=20&clcontinue=736|American_science_writers')"
   ]
  },
  {
   "cell_type": "code",
   "execution_count": null,
   "id": "33f8fac1",
   "metadata": {},
   "outputs": [],
   "source": [
    "rc.json()"
   ]
  },
  {
   "cell_type": "markdown",
   "id": "9c8d7156",
   "metadata": {},
   "source": [
    "*Exercise*: experiment queries yourself, retrieve data for different pages. The `categories`, `links`, `pageviews` are of interest for us.\n",
    "\n",
    "## Using the Wikipedia-API package\n",
    "While it is fairly simple to make complete retrieval of the data using multiple requests fully automatic, we will leave this as an exercise for the readers and use a helper library that will handle this for us. \n",
    "\n",
    "There are multiple options available, we will use the [Wikipedia-API](https://github.com/martin-majlis/Wikipedia-API) library. You may want to check its [documentation](https://wikipedia-api.readthedocs.io/en/latest/API.html)."
   ]
  },
  {
   "cell_type": "code",
   "execution_count": null,
   "id": "0432125a",
   "metadata": {},
   "outputs": [],
   "source": [
    "import wikipediaapi"
   ]
  },
  {
   "cell_type": "code",
   "execution_count": null,
   "id": "cdff4bbd",
   "metadata": {},
   "outputs": [],
   "source": [
    "# create the api object\n",
    "api = wikipediaapi.Wikipedia('en')"
   ]
  },
  {
   "cell_type": "markdown",
   "id": "f225695f",
   "metadata": {},
   "source": [
    "We can simply create a `Page` object and get its properties (which are lazily evaluated to limit the number of requests actually sent to Wikipedia API)"
   ]
  },
  {
   "cell_type": "code",
   "execution_count": null,
   "id": "d0a295f2",
   "metadata": {},
   "outputs": [],
   "source": [
    "albert = api.page('Albert Einstein')"
   ]
  },
  {
   "cell_type": "code",
   "execution_count": null,
   "id": "534c5c6e",
   "metadata": {},
   "outputs": [],
   "source": [
    "len(albert.categories)"
   ]
  },
  {
   "cell_type": "code",
   "execution_count": null,
   "id": "459665c1",
   "metadata": {},
   "outputs": [],
   "source": [
    "len(albert.links)"
   ]
  },
  {
   "cell_type": "markdown",
   "id": "ff117cda",
   "metadata": {},
   "source": [
    "It is interesting to see which requests are sent by increasing the logging level"
   ]
  },
  {
   "cell_type": "code",
   "execution_count": null,
   "id": "abe8bd35",
   "metadata": {},
   "outputs": [],
   "source": [
    "import sys\n",
    "# helper function\n",
    "def set_wikipediaapi_logging(level):\n",
    "    wikipediaapi.logging.getLogger('wikipediaapi').handlers.clear() # ugly - remove handlers to avoid duplicates\n",
    "    wikipediaapi.log.setLevel(level=level)\n",
    "    # Set handler if you use Python in interactive mode\n",
    "    out_hdlr = wikipediaapi.logging.StreamHandler(sys.stderr)\n",
    "    out_hdlr.setFormatter(wikipediaapi.logging.Formatter('%(asctime)s %(message)s'))\n",
    "    out_hdlr.setLevel(level)\n",
    "    wikipediaapi.log.addHandler(out_hdlr)\n",
    "\n",
    "set_wikipediaapi_logging(wikipediaapi.logging.INFO)"
   ]
  },
  {
   "cell_type": "code",
   "execution_count": null,
   "id": "fa3f3702",
   "metadata": {},
   "outputs": [],
   "source": [
    "quantum = api.page('Quantum mechanics')"
   ]
  },
  {
   "cell_type": "code",
   "execution_count": null,
   "id": "b20e84ae",
   "metadata": {},
   "outputs": [],
   "source": [
    "quantum.categories"
   ]
  },
  {
   "cell_type": "code",
   "execution_count": null,
   "id": "4d8a6684",
   "metadata": {},
   "outputs": [],
   "source": [
    "quantum.summary"
   ]
  },
  {
   "cell_type": "code",
   "execution_count": null,
   "id": "0fcdd217",
   "metadata": {},
   "outputs": [],
   "source": [
    "set_wikipediaapi_logging(wikipediaapi.logging.WARN) # reset logging"
   ]
  },
  {
   "cell_type": "markdown",
   "id": "607a2073",
   "metadata": {},
   "source": [
    "## Graph exploration\n",
    "The methods presented in this tutorial can be used to explore the Wikipedia page graph. However, the package [littleballoffur](https://github.com/benedekrozemberczki/littleballoffur) used to demonstrate the concepts cannot be used directly with the API. Therefore those methods have been implemented into a different package: [spikexplore](https://github.com/epfl-lts2/spikexplore).\n",
    "\n",
    "The package has no release (yet) so install it using pip:\n",
    "```\n",
    "pip install git+https://github.com/epfl-lts2/spikexplore.git\n",
    "```"
   ]
  },
  {
   "cell_type": "code",
   "execution_count": null,
   "id": "0cc8838e",
   "metadata": {},
   "outputs": [],
   "source": [
    "import networkx as nx\n",
    "from spikexplore import graph_explore\n",
    "from spikexplore.backends.wikipedia import WikipediaNetwork\n",
    "from spikexplore.config import SamplingConfig, GraphConfig, DataCollectionConfig, WikipediaConfig"
   ]
  },
  {
   "cell_type": "markdown",
   "id": "c71bf745",
   "metadata": {},
   "source": [
    "Spikexplore supports different backends: NetworkX (mostly for testing, in this case you can use littleballoffur), Twitter (requires the creation of a developer account to obtain API keys), and Wikipedia.\n",
    "\n",
    "You must create first the sampling backend you will use to acquire data:"
   ]
  },
  {
   "cell_type": "code",
   "execution_count": null,
   "id": "111637cb",
   "metadata": {},
   "outputs": [],
   "source": [
    "wiki_config = WikipediaConfig(lang='en') # adapt to your favorite language\n",
    "wiki_config.pages_ignored = [] # you can supply a list of page titles you want to ignore\n",
    "sampling_backend = WikipediaNetwork(wiki_config)"
   ]
  },
  {
   "cell_type": "markdown",
   "id": "b740309c",
   "metadata": {},
   "source": [
    "A second configuration object contains the parameters used for the graph creation. In our case the page graph is not weighted so keep the minimum edge weight to 1."
   ]
  },
  {
   "cell_type": "code",
   "execution_count": null,
   "id": "9cf7ec8d",
   "metadata": {},
   "outputs": [],
   "source": [
    "graph_config = GraphConfig(min_degree=1, min_weight=1)"
   ]
  },
  {
   "cell_type": "markdown",
   "id": "a765db7b",
   "metadata": {},
   "source": [
    "Exploration parameters are stored in another object. In the example below, we sample randomly 10 % of the edges encountered at each hop. The `max_nodes_per_hop` provides an additional fine-tuning parameter to limit the growth of the graph, limiting the number of new neighbors for each node. The `Fireball` expansion will make it close to the forest fire sampling seen previously."
   ]
  },
  {
   "cell_type": "code",
   "execution_count": null,
   "id": "22872c2c",
   "metadata": {},
   "outputs": [],
   "source": [
    "data_collection_config = DataCollectionConfig(exploration_depth=2, random_subset_mode=\"percent\",\n",
    "                                              random_subset_size=10, expansion_type=\"fireball\",\n",
    "                                              max_nodes_per_hop=100)"
   ]
  },
  {
   "cell_type": "markdown",
   "id": "1ec618b4",
   "metadata": {},
   "source": [
    "Finally the graph and data collection confuguration objects are combined into a single one that will be passed to spikexplore"
   ]
  },
  {
   "cell_type": "code",
   "execution_count": null,
   "id": "d06857c3",
   "metadata": {},
   "outputs": [],
   "source": [
    "sampling_config = SamplingConfig(graph_config, data_collection_config)"
   ]
  },
  {
   "cell_type": "markdown",
   "id": "cc264fd7",
   "metadata": {},
   "source": [
    "Let us define starting points to explore the graph (you might want to adapt this to your needs)"
   ]
  },
  {
   "cell_type": "code",
   "execution_count": null,
   "id": "1a171e8c",
   "metadata": {},
   "outputs": [],
   "source": [
    "initial_nodes = ['Albert Einstein', 'Quantum mechanics', 'Theory of relativity']"
   ]
  },
  {
   "cell_type": "code",
   "execution_count": null,
   "id": "9261f907",
   "metadata": {},
   "outputs": [],
   "source": [
    "# set_wikipediaapi_logging(wikipediaapi.logging.INFO) # optional, peep under the hood what is happening !! PRINTS A LOT OF OUTPUT !!\n",
    "graph_result =  graph_explore.explore(sampling_backend, initial_nodes, sampling_config)\n",
    "print('Collected {} nodes and {} edges'.format(graph_result.number_of_nodes(), graph_result.number_of_edges()))"
   ]
  },
  {
   "cell_type": "code",
   "execution_count": null,
   "id": "a4d6a366",
   "metadata": {},
   "outputs": [],
   "source": [
    "graph_result.nodes()"
   ]
  },
  {
   "cell_type": "code",
   "execution_count": null,
   "id": "3965b3a3",
   "metadata": {},
   "outputs": [],
   "source": [
    "nx.write_gexf(graph_result, 'wiki_einstein.gexf') # save result to view in Gephi"
   ]
  },
  {
   "cell_type": "markdown",
   "id": "033f191f",
   "metadata": {},
   "source": [
    "You can now open the result graph in Gephi and see if the communities make sense. Use different sets of parameters (sampling ratio, different initial nodes, etc.)\n",
    "\n",
    "With only 3 starting nodes and 2 hops, the graph is growing quickly and takes around 1 minute to collect. Adding an extra hop would take longer (but should remain reasonable), try it yourself if you have some time. Given the large number of connections in Wikipedia (the Albert Einstein page has more than 1000 links), exploring using Snowball sampling would lead to a much larger number of connections. You can try it by setting `random_subset_size` to 100 and set `max_nodes_per_hop` to a very large value to avoid being capped in any way."
   ]
  },
  {
   "cell_type": "code",
   "execution_count": null,
   "id": "2d279f2a",
   "metadata": {},
   "outputs": [],
   "source": [
    "# WARNING - this is going take some time to collect (ca. 10 minutes) !!\n",
    "data_collection_config_full = DataCollectionConfig(exploration_depth=2, random_subset_mode=\"percent\",\n",
    "                                              random_subset_size=100, expansion_type=\"coreball\",\n",
    "                                              degree=2, max_nodes_per_hop=1000000)\n",
    "sampling_config_full = SamplingConfig(graph_config, data_collection_config_full)\n",
    "graph_full = graph_explore.explore(sampling_backend, initial_nodes, sampling_config_full)\n",
    "print('Collected {} nodes and {} edges'.format(graph_full.number_of_nodes(), graph_full.number_of_edges()))"
   ]
  },
  {
   "cell_type": "markdown",
   "id": "6f8f4242",
   "metadata": {},
   "source": [
    "Collecting the full neighborhood of the 3 initial nodes using Snowball sampling yields a graph having ca. 1800 nodes and 126000 edges ! You can download the resulting graph using [this link](https://drive.switch.ch/index.php/s/qJr6qqBLnOEOR2f)"
   ]
  },
  {
   "cell_type": "markdown",
   "id": "5842eb6c",
   "metadata": {},
   "source": [
    "## Adding features to the graph\n",
    "Thanks to the wikipedia API, it is possible to retrieve the number of times a page has been viewed using the `pageviews`property. Unfortunately this is not part of the Wikipedia-API package. We need a small helper function to get those values."
   ]
  },
  {
   "cell_type": "code",
   "execution_count": null,
   "id": "d197f87c",
   "metadata": {},
   "outputs": [],
   "source": [
    "from urllib.parse import quote_plus\n",
    "\n",
    "# get the pageview data for a page. this is not efficient, you can send requests simultaneously\n",
    "# for multiple pages, feel free to improve. There is no error checking, sending bad data will return you exceptions.\n",
    "def get_pageviews(page_title, number_of_days=7, lang='en'):\n",
    "    url = 'https://{}.wikipedia.org/w/api.php?action=query&format=json&prop=pageviews&titles={}&pvipdays={}'.format(lang, quote_plus(page_title), number_of_days)\n",
    "    res = requests.get(url).json()\n",
    "    for k,v in res['query']['pages'].items(): # single item...\n",
    "        pageviews = v['pageviews']\n",
    "        return list(filter(None, pageviews.values())) # some pageviews value might be None -> do not take them into account\n",
    "    return res # fallback -  should not get here"
   ]
  },
  {
   "cell_type": "code",
   "execution_count": null,
   "id": "e94d3f02",
   "metadata": {},
   "outputs": [],
   "source": [
    "einstein_stats = get_pageviews('Albert Einstein', number_of_days=10)\n",
    "einstein_stats"
   ]
  },
  {
   "cell_type": "markdown",
   "id": "0cc9faa6",
   "metadata": {},
   "source": [
    "Let us retrieve the page views for all the nodes in the graph, for the last 10 days "
   ]
  },
  {
   "cell_type": "code",
   "execution_count": null,
   "id": "97c34491",
   "metadata": {},
   "outputs": [],
   "source": [
    "pageviews_graph = {k: get_pageviews(k, number_of_days=10) for k in graph_result.nodes()}"
   ]
  },
  {
   "cell_type": "markdown",
   "id": "7118468c",
   "metadata": {},
   "source": [
    "We will now compute the mean of the pageviews for each page and store it as an attribute in the graph"
   ]
  },
  {
   "cell_type": "code",
   "execution_count": null,
   "id": "4221c4c6",
   "metadata": {},
   "outputs": [],
   "source": [
    "import numpy as np\n",
    "pageviews_mean_graph = {k: np.mean(v) for k,v in pageviews_graph.items()}"
   ]
  },
  {
   "cell_type": "markdown",
   "id": "1451370d",
   "metadata": {},
   "source": [
    "Store those values as attribute, and save the resulting graph"
   ]
  },
  {
   "cell_type": "code",
   "execution_count": null,
   "id": "0ee35e7b",
   "metadata": {},
   "outputs": [],
   "source": [
    "nx.set_node_attributes(graph_result, pageviews_mean_graph, name='mean_pageviews')\n",
    "nx.write_gexf(graph_result, 'wiki_einstein_pageviews.gexf')"
   ]
  },
  {
   "cell_type": "markdown",
   "id": "2b0d6ba9",
   "metadata": {},
   "source": [
    "You can now use Gephi to open the graph and define the node size according to the number of visits they received. It can also be used to remove some nodes from the graph that have little importance visit-wise."
   ]
  },
  {
   "cell_type": "code",
   "execution_count": null,
   "id": "57079e69",
   "metadata": {},
   "outputs": [],
   "source": [
    "print('Average pageviews range from min={} to max={}'.format(np.min(list(pageviews_mean_graph.values())), np.max(list(pageviews_mean_graph.values()))))"
   ]
  },
  {
   "cell_type": "code",
   "execution_count": null,
   "id": "d8fac929",
   "metadata": {},
   "outputs": [],
   "source": []
  }
 ],
 "metadata": {
  "kernelspec": {
   "display_name": "Python 3",
   "language": "python",
   "name": "python3"
  },
  "language_info": {
   "codemirror_mode": {
    "name": "ipython",
    "version": 3
   },
   "file_extension": ".py",
   "mimetype": "text/x-python",
   "name": "python",
   "nbconvert_exporter": "python",
   "pygments_lexer": "ipython3",
   "version": "3.9.2"
  }
 },
 "nbformat": 4,
 "nbformat_minor": 5
}
